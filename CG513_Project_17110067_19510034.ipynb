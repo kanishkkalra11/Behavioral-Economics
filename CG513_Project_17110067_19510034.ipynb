{
 "cells": [
  {
   "cell_type": "markdown",
   "metadata": {},
   "source": [
    "<h1>               CG 513 (Behavioural Economics) Project</h1>\n",
    "\n",
    "-Tharan Suresh (19510034), Kanishk Kalra (17110067)"
   ]
  },
  {
   "cell_type": "markdown",
   "metadata": {},
   "source": [
    "<h3> Introduction </h3>\n",
    "\n",
    "For this project, we create a questionnaire. Here is the <b><a href = \"https://forms.gle/75Q9hN7WT5aGPfvw5\">link</a></b> to the questionnaire. 26 participants were asked to answer these questions. Here, we present the simulations and interpretations from this questionnaire. This project is based on 1971 paper by Amos Tversky and Daniel Kahneman titled \"Belief in the Law of Small Numbers\" which can be accessed from this <a href = \"http://stats.org.uk/statistical-inference/TverskyKahneman1971.pdf\">link</a>. They define the law of large numbers as any small sample drawn from a population would be representative of that population, just as the law of large numbers. Using these simulations, we try to show some evidence of the belief in the law of small numbers in general public."
   ]
  },
  {
   "cell_type": "code",
   "execution_count": 83,
   "metadata": {},
   "outputs": [],
   "source": [
    "# Load the form responses\n",
    "import pandas as pd\n",
    "df = pd.read_csv(\"Questionnaire (Responses) - Form Responses 1.csv\")"
   ]
  },
  {
   "cell_type": "code",
   "execution_count": 84,
   "metadata": {},
   "outputs": [
    {
     "data": {
      "text/html": [
       "<div>\n",
       "<style scoped>\n",
       "    .dataframe tbody tr th:only-of-type {\n",
       "        vertical-align: middle;\n",
       "    }\n",
       "\n",
       "    .dataframe tbody tr th {\n",
       "        vertical-align: top;\n",
       "    }\n",
       "\n",
       "    .dataframe thead th {\n",
       "        text-align: right;\n",
       "    }\n",
       "</style>\n",
       "<table border=\"1\" class=\"dataframe\">\n",
       "  <thead>\n",
       "    <tr style=\"text-align: right;\">\n",
       "      <th></th>\n",
       "      <th>Timestamp</th>\n",
       "      <th>A research study was conducted in a small town in Switzerland with 35 participants and it was found that 80% of the participants prefer to stay in joint families. The researchers concluded that joint families are a preferable concept in this town. Would you accept this research?</th>\n",
       "      <th>I am tossing a fair coin 4 times. The first 3 tosses result in Tails, Heads, Heads, respectively. What do you expect the next toss to be? (Write either H or T.)</th>\n",
       "      <th>I am tossing a fair coin 4 times. The first 3 tosses result in Tails, Tails, Tails, respectively. What do you expect the next toss to be? (Write either H or T.)</th>\n",
       "      <th>I am tossing a biased coin (which gives heads 3 times for every 4 tosses, meaning p(H)=3/4) 8 times. The first 7 tosses result in Heads, Heads, Heads, Tails, Heads, Heads, Heads, respectively. What do you expect the next toss to be? (Write either H or T.)</th>\n",
       "      <th>You are tossing a fair coin 8 times. What do you expect the outcome sequence of Heads and Tails to be? (Write comma separated H and T, eg., H,H,T,H,T,T,H,T)</th>\n",
       "      <th>You are tossing a fair coin 8 times. What do you expect the outcome sequence of Heads and Tails to be? (Write comma separated H and T, eg., H,H,T,H,T,T,H,T.)</th>\n",
       "      <th>On a planet like earth in a galaxy far far away, a behavioral scientist in a small town believes that the people of the town love chocolates a lot. He decides to test this hypothesis by conducting a research with 20 participants and finds that 92% of these participants love chocolates. You are skeptical of the hypothesis and wish to replicate this study with a group of 15 other participants, chosen randomly from the population. Would you accept the first research if you find that out of your sample, 67% of the participants love chocolates?</th>\n",
       "      <th>Two people are in a casino and decide that if one of them throws two 4’s, they will get married and if they throw a 5 and a 3, they won’t get married. Do you expect them to come back from Vegas married or unmarried?</th>\n",
       "    </tr>\n",
       "  </thead>\n",
       "  <tbody>\n",
       "    <tr>\n",
       "      <th>0</th>\n",
       "      <td>12/6/2020 15:57:05</td>\n",
       "      <td>No</td>\n",
       "      <td>T</td>\n",
       "      <td>H</td>\n",
       "      <td>T</td>\n",
       "      <td>H,H,T,H,H,T,T,H</td>\n",
       "      <td>T,T,H,T,H,H,H,T</td>\n",
       "      <td>Yes</td>\n",
       "      <td>Married</td>\n",
       "    </tr>\n",
       "    <tr>\n",
       "      <th>1</th>\n",
       "      <td>12/6/2020 15:59:51</td>\n",
       "      <td>Yes</td>\n",
       "      <td>T</td>\n",
       "      <td>H</td>\n",
       "      <td>H</td>\n",
       "      <td>H, T, H, H, T, H, T, H</td>\n",
       "      <td>T, H, H, T, T, H, H, T</td>\n",
       "      <td>No</td>\n",
       "      <td>Unmarried</td>\n",
       "    </tr>\n",
       "    <tr>\n",
       "      <th>2</th>\n",
       "      <td>12/6/2020 16:02:26</td>\n",
       "      <td>Yes</td>\n",
       "      <td>T</td>\n",
       "      <td>H</td>\n",
       "      <td>H</td>\n",
       "      <td>H,H,T,H,T,T,H,H</td>\n",
       "      <td>H,T,H,H,H,T,H,T</td>\n",
       "      <td>Yes</td>\n",
       "      <td>Can't Say</td>\n",
       "    </tr>\n",
       "    <tr>\n",
       "      <th>3</th>\n",
       "      <td>12/6/2020 16:02:37</td>\n",
       "      <td>No</td>\n",
       "      <td>T</td>\n",
       "      <td>H</td>\n",
       "      <td>H</td>\n",
       "      <td>H, T, H T, H, T, H, T</td>\n",
       "      <td>H, T, H T, H, T, H, T</td>\n",
       "      <td>No</td>\n",
       "      <td>Unmarried</td>\n",
       "    </tr>\n",
       "    <tr>\n",
       "      <th>4</th>\n",
       "      <td>12/6/2020 16:03:46</td>\n",
       "      <td>Yes</td>\n",
       "      <td>T</td>\n",
       "      <td>H</td>\n",
       "      <td>T</td>\n",
       "      <td>H,T,T,H,H,H,T,T</td>\n",
       "      <td>T,T,H,T,H,H,T,H</td>\n",
       "      <td>No</td>\n",
       "      <td>Can't Say</td>\n",
       "    </tr>\n",
       "    <tr>\n",
       "      <th>5</th>\n",
       "      <td>12/6/2020 16:07:22</td>\n",
       "      <td>Yes</td>\n",
       "      <td>T</td>\n",
       "      <td>H</td>\n",
       "      <td>T</td>\n",
       "      <td>H,H,T,H,T,T,H,T</td>\n",
       "      <td>T,H,T,H,T,T,H,H</td>\n",
       "      <td>No</td>\n",
       "      <td>Unmarried</td>\n",
       "    </tr>\n",
       "    <tr>\n",
       "      <th>6</th>\n",
       "      <td>12/6/2020 16:07:44</td>\n",
       "      <td>Yes</td>\n",
       "      <td>T</td>\n",
       "      <td>H</td>\n",
       "      <td>T</td>\n",
       "      <td>H,T,H,T,H,T,H,T</td>\n",
       "      <td>H,T,H,T,H,T,H,T</td>\n",
       "      <td>Yes</td>\n",
       "      <td>Unmarried</td>\n",
       "    </tr>\n",
       "    <tr>\n",
       "      <th>7</th>\n",
       "      <td>12/6/2020 16:08:15</td>\n",
       "      <td>Yes</td>\n",
       "      <td>T</td>\n",
       "      <td>H</td>\n",
       "      <td>T</td>\n",
       "      <td>H,H,T,H,H,H,T,T</td>\n",
       "      <td>T,H,H,T,H,H,T,T</td>\n",
       "      <td>No</td>\n",
       "      <td>Can't Say</td>\n",
       "    </tr>\n",
       "    <tr>\n",
       "      <th>8</th>\n",
       "      <td>12/6/2020 16:08:57</td>\n",
       "      <td>Yes</td>\n",
       "      <td>H</td>\n",
       "      <td>T</td>\n",
       "      <td>H</td>\n",
       "      <td>H,T,H,T,H,T,H,T</td>\n",
       "      <td>T,H,T,H,T,T,H,H</td>\n",
       "      <td>No</td>\n",
       "      <td>Unmarried</td>\n",
       "    </tr>\n",
       "    <tr>\n",
       "      <th>9</th>\n",
       "      <td>12/6/2020 16:10:55</td>\n",
       "      <td>Yes</td>\n",
       "      <td>T</td>\n",
       "      <td>H</td>\n",
       "      <td>H</td>\n",
       "      <td>H,T,T,H,T,H,T,H</td>\n",
       "      <td>H,T,T,T,H,H,T,H</td>\n",
       "      <td>No</td>\n",
       "      <td>Can't Say</td>\n",
       "    </tr>\n",
       "    <tr>\n",
       "      <th>10</th>\n",
       "      <td>12/6/2020 16:11:35</td>\n",
       "      <td>Yes</td>\n",
       "      <td>T</td>\n",
       "      <td>H</td>\n",
       "      <td>H</td>\n",
       "      <td>H,T,H,T,T,T,T,H</td>\n",
       "      <td>H,T,H,T,H,T,H,T</td>\n",
       "      <td>No</td>\n",
       "      <td>Unmarried</td>\n",
       "    </tr>\n",
       "    <tr>\n",
       "      <th>11</th>\n",
       "      <td>12/6/2020 16:12:14</td>\n",
       "      <td>Yes</td>\n",
       "      <td>T</td>\n",
       "      <td>T</td>\n",
       "      <td>T</td>\n",
       "      <td>H,T,H,T,T,T,H,H</td>\n",
       "      <td>T,T,H,H,H,T,H,T</td>\n",
       "      <td>No</td>\n",
       "      <td>Can't Say</td>\n",
       "    </tr>\n",
       "    <tr>\n",
       "      <th>12</th>\n",
       "      <td>12/6/2020 16:12:59</td>\n",
       "      <td>Yes</td>\n",
       "      <td>T</td>\n",
       "      <td>H</td>\n",
       "      <td>H</td>\n",
       "      <td>H,T,H,T,T,H,H,T</td>\n",
       "      <td>T,T,H,T,H,H,T,H</td>\n",
       "      <td>No</td>\n",
       "      <td>Can't Say</td>\n",
       "    </tr>\n",
       "    <tr>\n",
       "      <th>13</th>\n",
       "      <td>12/6/2020 16:14:32</td>\n",
       "      <td>No</td>\n",
       "      <td>H</td>\n",
       "      <td>H</td>\n",
       "      <td>H</td>\n",
       "      <td>H,H,T,H,T,H,H,H</td>\n",
       "      <td>H,T,T,T,H,T,H,H</td>\n",
       "      <td>No</td>\n",
       "      <td>Can't Say</td>\n",
       "    </tr>\n",
       "    <tr>\n",
       "      <th>14</th>\n",
       "      <td>12/6/2020 16:14:48</td>\n",
       "      <td>Yes</td>\n",
       "      <td>T</td>\n",
       "      <td>H</td>\n",
       "      <td>H</td>\n",
       "      <td>H,T,H,T,H,H,T,T</td>\n",
       "      <td>T,H,T,H,T,H,H,T</td>\n",
       "      <td>No</td>\n",
       "      <td>Can't Say</td>\n",
       "    </tr>\n",
       "    <tr>\n",
       "      <th>15</th>\n",
       "      <td>12/6/2020 16:15:57</td>\n",
       "      <td>No</td>\n",
       "      <td>T</td>\n",
       "      <td>H</td>\n",
       "      <td>T</td>\n",
       "      <td>H,T,H,T,H,T,H,T</td>\n",
       "      <td>T,H,T,H,T,H,T,H</td>\n",
       "      <td>No</td>\n",
       "      <td>Unmarried</td>\n",
       "    </tr>\n",
       "    <tr>\n",
       "      <th>16</th>\n",
       "      <td>12/6/2020 16:16:56</td>\n",
       "      <td>Yes</td>\n",
       "      <td>T</td>\n",
       "      <td>H</td>\n",
       "      <td>T</td>\n",
       "      <td>H,H,T,H,T,H,H,T</td>\n",
       "      <td>T,H,T,H,T,H,T,T</td>\n",
       "      <td>No</td>\n",
       "      <td>Can't Say</td>\n",
       "    </tr>\n",
       "    <tr>\n",
       "      <th>17</th>\n",
       "      <td>12/6/2020 16:17:38</td>\n",
       "      <td>No</td>\n",
       "      <td>H</td>\n",
       "      <td>T</td>\n",
       "      <td>H</td>\n",
       "      <td>H,T,H,T,H,T,H,T</td>\n",
       "      <td>T,T,T,H,H,H,T,H</td>\n",
       "      <td>No</td>\n",
       "      <td>Can't Say</td>\n",
       "    </tr>\n",
       "    <tr>\n",
       "      <th>18</th>\n",
       "      <td>12/6/2020 16:18:15</td>\n",
       "      <td>No</td>\n",
       "      <td>T</td>\n",
       "      <td>H</td>\n",
       "      <td>H</td>\n",
       "      <td>H,T,H,T,H,T,T,H</td>\n",
       "      <td>T,T,T,H,T,H,H,H</td>\n",
       "      <td>No</td>\n",
       "      <td>Can't Say</td>\n",
       "    </tr>\n",
       "    <tr>\n",
       "      <th>19</th>\n",
       "      <td>12/6/2020 16:18:45</td>\n",
       "      <td>Yes</td>\n",
       "      <td>T</td>\n",
       "      <td>H</td>\n",
       "      <td>H</td>\n",
       "      <td>H,T,H,T,T,H,H,T</td>\n",
       "      <td>T,T,H,T,H,H,T,H</td>\n",
       "      <td>No</td>\n",
       "      <td>Can't Say</td>\n",
       "    </tr>\n",
       "    <tr>\n",
       "      <th>20</th>\n",
       "      <td>12/6/2020 16:19:59</td>\n",
       "      <td>Yes</td>\n",
       "      <td>T</td>\n",
       "      <td>H</td>\n",
       "      <td>T</td>\n",
       "      <td>H,T,H,T,H,T,H,T</td>\n",
       "      <td>T,T,T,T,H,H,H,H</td>\n",
       "      <td>No</td>\n",
       "      <td>Unmarried</td>\n",
       "    </tr>\n",
       "    <tr>\n",
       "      <th>21</th>\n",
       "      <td>12/6/2020 16:20:36</td>\n",
       "      <td>Yes</td>\n",
       "      <td>T</td>\n",
       "      <td>H</td>\n",
       "      <td>H</td>\n",
       "      <td>H,H,T,H,T,T,T,H</td>\n",
       "      <td>H,T,T,T,T,H,H,H</td>\n",
       "      <td>No</td>\n",
       "      <td>Can't Say</td>\n",
       "    </tr>\n",
       "    <tr>\n",
       "      <th>22</th>\n",
       "      <td>12/6/2020 16:21:20</td>\n",
       "      <td>No</td>\n",
       "      <td>T</td>\n",
       "      <td>H</td>\n",
       "      <td>H</td>\n",
       "      <td>H,T,T,H,T,T,H,H</td>\n",
       "      <td>T,H,T,H,H,T,H,T</td>\n",
       "      <td>No</td>\n",
       "      <td>Unmarried</td>\n",
       "    </tr>\n",
       "    <tr>\n",
       "      <th>23</th>\n",
       "      <td>12/6/2020 16:21:59</td>\n",
       "      <td>Yes</td>\n",
       "      <td>T</td>\n",
       "      <td>H</td>\n",
       "      <td>H</td>\n",
       "      <td>H,T,H,T,H,H,T,T</td>\n",
       "      <td>T,H,H,H,T,T,H,T</td>\n",
       "      <td>No</td>\n",
       "      <td>Can't Say</td>\n",
       "    </tr>\n",
       "    <tr>\n",
       "      <th>24</th>\n",
       "      <td>12/6/2020 16:22:27</td>\n",
       "      <td>Yes</td>\n",
       "      <td>T</td>\n",
       "      <td>H</td>\n",
       "      <td>H</td>\n",
       "      <td>H,T,H,T,H,H,T,T</td>\n",
       "      <td>T,H,T,H,T,T,H,H</td>\n",
       "      <td>No</td>\n",
       "      <td>Unmarried</td>\n",
       "    </tr>\n",
       "    <tr>\n",
       "      <th>25</th>\n",
       "      <td>12/6/2020 16:23:54</td>\n",
       "      <td>Yes</td>\n",
       "      <td>H</td>\n",
       "      <td>H</td>\n",
       "      <td>T</td>\n",
       "      <td>H,T,H,T,H,T,H,T</td>\n",
       "      <td>H,T,H,T,H,T,H,T</td>\n",
       "      <td>No</td>\n",
       "      <td>Unmarried</td>\n",
       "    </tr>\n",
       "  </tbody>\n",
       "</table>\n",
       "</div>"
      ],
      "text/plain": [
       "             Timestamp  \\\n",
       "0   12/6/2020 15:57:05   \n",
       "1   12/6/2020 15:59:51   \n",
       "2   12/6/2020 16:02:26   \n",
       "3   12/6/2020 16:02:37   \n",
       "4   12/6/2020 16:03:46   \n",
       "5   12/6/2020 16:07:22   \n",
       "6   12/6/2020 16:07:44   \n",
       "7   12/6/2020 16:08:15   \n",
       "8   12/6/2020 16:08:57   \n",
       "9   12/6/2020 16:10:55   \n",
       "10  12/6/2020 16:11:35   \n",
       "11  12/6/2020 16:12:14   \n",
       "12  12/6/2020 16:12:59   \n",
       "13  12/6/2020 16:14:32   \n",
       "14  12/6/2020 16:14:48   \n",
       "15  12/6/2020 16:15:57   \n",
       "16  12/6/2020 16:16:56   \n",
       "17  12/6/2020 16:17:38   \n",
       "18  12/6/2020 16:18:15   \n",
       "19  12/6/2020 16:18:45   \n",
       "20  12/6/2020 16:19:59   \n",
       "21  12/6/2020 16:20:36   \n",
       "22  12/6/2020 16:21:20   \n",
       "23  12/6/2020 16:21:59   \n",
       "24  12/6/2020 16:22:27   \n",
       "25  12/6/2020 16:23:54   \n",
       "\n",
       "   A research study was conducted in a small town in Switzerland with 35 participants and it was found that 80% of the participants prefer to stay in joint families. The researchers concluded that joint families are a preferable concept in this town. Would you accept this research?  \\\n",
       "0                                                  No                                                                                                                                                                                                                                        \n",
       "1                                                 Yes                                                                                                                                                                                                                                        \n",
       "2                                                 Yes                                                                                                                                                                                                                                        \n",
       "3                                                  No                                                                                                                                                                                                                                        \n",
       "4                                                 Yes                                                                                                                                                                                                                                        \n",
       "5                                                 Yes                                                                                                                                                                                                                                        \n",
       "6                                                 Yes                                                                                                                                                                                                                                        \n",
       "7                                                 Yes                                                                                                                                                                                                                                        \n",
       "8                                                 Yes                                                                                                                                                                                                                                        \n",
       "9                                                 Yes                                                                                                                                                                                                                                        \n",
       "10                                                Yes                                                                                                                                                                                                                                        \n",
       "11                                                Yes                                                                                                                                                                                                                                        \n",
       "12                                                Yes                                                                                                                                                                                                                                        \n",
       "13                                                 No                                                                                                                                                                                                                                        \n",
       "14                                                Yes                                                                                                                                                                                                                                        \n",
       "15                                                 No                                                                                                                                                                                                                                        \n",
       "16                                                Yes                                                                                                                                                                                                                                        \n",
       "17                                                 No                                                                                                                                                                                                                                        \n",
       "18                                                 No                                                                                                                                                                                                                                        \n",
       "19                                                Yes                                                                                                                                                                                                                                        \n",
       "20                                                Yes                                                                                                                                                                                                                                        \n",
       "21                                                Yes                                                                                                                                                                                                                                        \n",
       "22                                                 No                                                                                                                                                                                                                                        \n",
       "23                                                Yes                                                                                                                                                                                                                                        \n",
       "24                                                Yes                                                                                                                                                                                                                                        \n",
       "25                                                Yes                                                                                                                                                                                                                                        \n",
       "\n",
       "   I am tossing a fair coin 4 times. The first 3 tosses result in Tails, Heads, Heads, respectively. What do you expect the next toss to be? (Write either H or T.)  \\\n",
       "0                                                   T                                                                                                                 \n",
       "1                                                   T                                                                                                                 \n",
       "2                                                   T                                                                                                                 \n",
       "3                                                   T                                                                                                                 \n",
       "4                                                   T                                                                                                                 \n",
       "5                                                   T                                                                                                                 \n",
       "6                                                   T                                                                                                                 \n",
       "7                                                   T                                                                                                                 \n",
       "8                                                   H                                                                                                                 \n",
       "9                                                   T                                                                                                                 \n",
       "10                                                  T                                                                                                                 \n",
       "11                                                  T                                                                                                                 \n",
       "12                                                  T                                                                                                                 \n",
       "13                                                  H                                                                                                                 \n",
       "14                                                  T                                                                                                                 \n",
       "15                                                  T                                                                                                                 \n",
       "16                                                  T                                                                                                                 \n",
       "17                                                  H                                                                                                                 \n",
       "18                                                  T                                                                                                                 \n",
       "19                                                  T                                                                                                                 \n",
       "20                                                  T                                                                                                                 \n",
       "21                                                  T                                                                                                                 \n",
       "22                                                  T                                                                                                                 \n",
       "23                                                  T                                                                                                                 \n",
       "24                                                  T                                                                                                                 \n",
       "25                                                  H                                                                                                                 \n",
       "\n",
       "   I am tossing a fair coin 4 times. The first 3 tosses result in Tails, Tails, Tails, respectively. What do you expect the next toss to be? (Write either H or T.)  \\\n",
       "0                                                   H                                                                                                                 \n",
       "1                                                   H                                                                                                                 \n",
       "2                                                   H                                                                                                                 \n",
       "3                                                   H                                                                                                                 \n",
       "4                                                   H                                                                                                                 \n",
       "5                                                   H                                                                                                                 \n",
       "6                                                   H                                                                                                                 \n",
       "7                                                   H                                                                                                                 \n",
       "8                                                   T                                                                                                                 \n",
       "9                                                   H                                                                                                                 \n",
       "10                                                  H                                                                                                                 \n",
       "11                                                  T                                                                                                                 \n",
       "12                                                  H                                                                                                                 \n",
       "13                                                  H                                                                                                                 \n",
       "14                                                  H                                                                                                                 \n",
       "15                                                  H                                                                                                                 \n",
       "16                                                  H                                                                                                                 \n",
       "17                                                  T                                                                                                                 \n",
       "18                                                  H                                                                                                                 \n",
       "19                                                  H                                                                                                                 \n",
       "20                                                  H                                                                                                                 \n",
       "21                                                  H                                                                                                                 \n",
       "22                                                  H                                                                                                                 \n",
       "23                                                  H                                                                                                                 \n",
       "24                                                  H                                                                                                                 \n",
       "25                                                  H                                                                                                                 \n",
       "\n",
       "   I am tossing a biased coin (which gives heads 3 times for every 4 tosses, meaning p(H)=3/4) 8 times. The first 7 tosses result in Heads, Heads, Heads, Tails, Heads, Heads, Heads, respectively. What do you expect the next toss to be? (Write either H or T.)  \\\n",
       "0                                                   T                                                                                                                                                                                                                \n",
       "1                                                   H                                                                                                                                                                                                                \n",
       "2                                                   H                                                                                                                                                                                                                \n",
       "3                                                   H                                                                                                                                                                                                                \n",
       "4                                                   T                                                                                                                                                                                                                \n",
       "5                                                   T                                                                                                                                                                                                                \n",
       "6                                                   T                                                                                                                                                                                                                \n",
       "7                                                   T                                                                                                                                                                                                                \n",
       "8                                                   H                                                                                                                                                                                                                \n",
       "9                                                   H                                                                                                                                                                                                                \n",
       "10                                                  H                                                                                                                                                                                                                \n",
       "11                                                  T                                                                                                                                                                                                                \n",
       "12                                                  H                                                                                                                                                                                                                \n",
       "13                                                  H                                                                                                                                                                                                                \n",
       "14                                                  H                                                                                                                                                                                                                \n",
       "15                                                  T                                                                                                                                                                                                                \n",
       "16                                                  T                                                                                                                                                                                                                \n",
       "17                                                  H                                                                                                                                                                                                                \n",
       "18                                                  H                                                                                                                                                                                                                \n",
       "19                                                  H                                                                                                                                                                                                                \n",
       "20                                                  T                                                                                                                                                                                                                \n",
       "21                                                  H                                                                                                                                                                                                                \n",
       "22                                                  H                                                                                                                                                                                                                \n",
       "23                                                  H                                                                                                                                                                                                                \n",
       "24                                                  H                                                                                                                                                                                                                \n",
       "25                                                  T                                                                                                                                                                                                                \n",
       "\n",
       "   You are tossing a fair coin 8 times. What do you expect the outcome sequence of Heads and Tails to be? (Write comma separated H and T, eg., H,H,T,H,T,T,H,T)  \\\n",
       "0                                     H,H,T,H,H,T,T,H                                                                                                             \n",
       "1                              H, T, H, H, T, H, T, H                                                                                                             \n",
       "2                                     H,H,T,H,T,T,H,H                                                                                                             \n",
       "3                               H, T, H T, H, T, H, T                                                                                                             \n",
       "4                                     H,T,T,H,H,H,T,T                                                                                                             \n",
       "5                                     H,H,T,H,T,T,H,T                                                                                                             \n",
       "6                                     H,T,H,T,H,T,H,T                                                                                                             \n",
       "7                                     H,H,T,H,H,H,T,T                                                                                                             \n",
       "8                                     H,T,H,T,H,T,H,T                                                                                                             \n",
       "9                                     H,T,T,H,T,H,T,H                                                                                                             \n",
       "10                                    H,T,H,T,T,T,T,H                                                                                                             \n",
       "11                                    H,T,H,T,T,T,H,H                                                                                                             \n",
       "12                                    H,T,H,T,T,H,H,T                                                                                                             \n",
       "13                                    H,H,T,H,T,H,H,H                                                                                                             \n",
       "14                                    H,T,H,T,H,H,T,T                                                                                                             \n",
       "15                                    H,T,H,T,H,T,H,T                                                                                                             \n",
       "16                                    H,H,T,H,T,H,H,T                                                                                                             \n",
       "17                                    H,T,H,T,H,T,H,T                                                                                                             \n",
       "18                                    H,T,H,T,H,T,T,H                                                                                                             \n",
       "19                                    H,T,H,T,T,H,H,T                                                                                                             \n",
       "20                                    H,T,H,T,H,T,H,T                                                                                                             \n",
       "21                                    H,H,T,H,T,T,T,H                                                                                                             \n",
       "22                                    H,T,T,H,T,T,H,H                                                                                                             \n",
       "23                                    H,T,H,T,H,H,T,T                                                                                                             \n",
       "24                                    H,T,H,T,H,H,T,T                                                                                                             \n",
       "25                                    H,T,H,T,H,T,H,T                                                                                                             \n",
       "\n",
       "   You are tossing a fair coin 8 times. What do you expect the outcome sequence of Heads and Tails to be? (Write comma separated H and T, eg., H,H,T,H,T,T,H,T.)  \\\n",
       "0                                     T,T,H,T,H,H,H,T                                                                                                              \n",
       "1                              T, H, H, T, T, H, H, T                                                                                                              \n",
       "2                                     H,T,H,H,H,T,H,T                                                                                                              \n",
       "3                               H, T, H T, H, T, H, T                                                                                                              \n",
       "4                                     T,T,H,T,H,H,T,H                                                                                                              \n",
       "5                                     T,H,T,H,T,T,H,H                                                                                                              \n",
       "6                                     H,T,H,T,H,T,H,T                                                                                                              \n",
       "7                                     T,H,H,T,H,H,T,T                                                                                                              \n",
       "8                                     T,H,T,H,T,T,H,H                                                                                                              \n",
       "9                                     H,T,T,T,H,H,T,H                                                                                                              \n",
       "10                                    H,T,H,T,H,T,H,T                                                                                                              \n",
       "11                                    T,T,H,H,H,T,H,T                                                                                                              \n",
       "12                                    T,T,H,T,H,H,T,H                                                                                                              \n",
       "13                                    H,T,T,T,H,T,H,H                                                                                                              \n",
       "14                                    T,H,T,H,T,H,H,T                                                                                                              \n",
       "15                                    T,H,T,H,T,H,T,H                                                                                                              \n",
       "16                                    T,H,T,H,T,H,T,T                                                                                                              \n",
       "17                                    T,T,T,H,H,H,T,H                                                                                                              \n",
       "18                                    T,T,T,H,T,H,H,H                                                                                                              \n",
       "19                                    T,T,H,T,H,H,T,H                                                                                                              \n",
       "20                                    T,T,T,T,H,H,H,H                                                                                                              \n",
       "21                                    H,T,T,T,T,H,H,H                                                                                                              \n",
       "22                                    T,H,T,H,H,T,H,T                                                                                                              \n",
       "23                                    T,H,H,H,T,T,H,T                                                                                                              \n",
       "24                                    T,H,T,H,T,T,H,H                                                                                                              \n",
       "25                                    H,T,H,T,H,T,H,T                                                                                                              \n",
       "\n",
       "   On a planet like earth in a galaxy far far away, a behavioral scientist in a small town believes that the people of the town love chocolates a lot. He decides to test this hypothesis by conducting a research with 20 participants and finds that 92% of these participants love chocolates. You are skeptical of the hypothesis and wish to replicate this study with a group of 15 other participants, chosen randomly from the population. Would you accept the first research if you find that out of your sample, 67% of the participants love chocolates?  \\\n",
       "0                                                 Yes                                                                                                                                                                                                                                                                                                                                                                                                                                                                                                                  \n",
       "1                                                  No                                                                                                                                                                                                                                                                                                                                                                                                                                                                                                                  \n",
       "2                                                 Yes                                                                                                                                                                                                                                                                                                                                                                                                                                                                                                                  \n",
       "3                                                  No                                                                                                                                                                                                                                                                                                                                                                                                                                                                                                                  \n",
       "4                                                  No                                                                                                                                                                                                                                                                                                                                                                                                                                                                                                                  \n",
       "5                                                  No                                                                                                                                                                                                                                                                                                                                                                                                                                                                                                                  \n",
       "6                                                 Yes                                                                                                                                                                                                                                                                                                                                                                                                                                                                                                                  \n",
       "7                                                  No                                                                                                                                                                                                                                                                                                                                                                                                                                                                                                                  \n",
       "8                                                  No                                                                                                                                                                                                                                                                                                                                                                                                                                                                                                                  \n",
       "9                                                  No                                                                                                                                                                                                                                                                                                                                                                                                                                                                                                                  \n",
       "10                                                 No                                                                                                                                                                                                                                                                                                                                                                                                                                                                                                                  \n",
       "11                                                 No                                                                                                                                                                                                                                                                                                                                                                                                                                                                                                                  \n",
       "12                                                 No                                                                                                                                                                                                                                                                                                                                                                                                                                                                                                                  \n",
       "13                                                 No                                                                                                                                                                                                                                                                                                                                                                                                                                                                                                                  \n",
       "14                                                 No                                                                                                                                                                                                                                                                                                                                                                                                                                                                                                                  \n",
       "15                                                 No                                                                                                                                                                                                                                                                                                                                                                                                                                                                                                                  \n",
       "16                                                 No                                                                                                                                                                                                                                                                                                                                                                                                                                                                                                                  \n",
       "17                                                 No                                                                                                                                                                                                                                                                                                                                                                                                                                                                                                                  \n",
       "18                                                 No                                                                                                                                                                                                                                                                                                                                                                                                                                                                                                                  \n",
       "19                                                 No                                                                                                                                                                                                                                                                                                                                                                                                                                                                                                                  \n",
       "20                                                 No                                                                                                                                                                                                                                                                                                                                                                                                                                                                                                                  \n",
       "21                                                 No                                                                                                                                                                                                                                                                                                                                                                                                                                                                                                                  \n",
       "22                                                 No                                                                                                                                                                                                                                                                                                                                                                                                                                                                                                                  \n",
       "23                                                 No                                                                                                                                                                                                                                                                                                                                                                                                                                                                                                                  \n",
       "24                                                 No                                                                                                                                                                                                                                                                                                                                                                                                                                                                                                                  \n",
       "25                                                 No                                                                                                                                                                                                                                                                                                                                                                                                                                                                                                                  \n",
       "\n",
       "   Two people are in a casino and decide that if one of them throws two 4’s, they will get married and if they throw a 5 and a 3, they won’t get married. Do you expect them to come back from Vegas married or unmarried?  \n",
       "0                                             Married                                                                                                                                                                       \n",
       "1                                           Unmarried                                                                                                                                                                       \n",
       "2                                           Can't Say                                                                                                                                                                       \n",
       "3                                           Unmarried                                                                                                                                                                       \n",
       "4                                           Can't Say                                                                                                                                                                       \n",
       "5                                           Unmarried                                                                                                                                                                       \n",
       "6                                           Unmarried                                                                                                                                                                       \n",
       "7                                           Can't Say                                                                                                                                                                       \n",
       "8                                           Unmarried                                                                                                                                                                       \n",
       "9                                           Can't Say                                                                                                                                                                       \n",
       "10                                          Unmarried                                                                                                                                                                       \n",
       "11                                          Can't Say                                                                                                                                                                       \n",
       "12                                          Can't Say                                                                                                                                                                       \n",
       "13                                          Can't Say                                                                                                                                                                       \n",
       "14                                          Can't Say                                                                                                                                                                       \n",
       "15                                          Unmarried                                                                                                                                                                       \n",
       "16                                          Can't Say                                                                                                                                                                       \n",
       "17                                          Can't Say                                                                                                                                                                       \n",
       "18                                          Can't Say                                                                                                                                                                       \n",
       "19                                          Can't Say                                                                                                                                                                       \n",
       "20                                          Unmarried                                                                                                                                                                       \n",
       "21                                          Can't Say                                                                                                                                                                       \n",
       "22                                          Unmarried                                                                                                                                                                       \n",
       "23                                          Can't Say                                                                                                                                                                       \n",
       "24                                          Unmarried                                                                                                                                                                       \n",
       "25                                          Unmarried                                                                                                                                                                       "
      ]
     },
     "execution_count": 84,
     "metadata": {},
     "output_type": "execute_result"
    }
   ],
   "source": [
    "df"
   ]
  },
  {
   "cell_type": "markdown",
   "metadata": {},
   "source": [
    "<h3>Simulation 1</h3>\n",
    "\n",
    "Question - A research study was conducted in a small town in Switzerland with 35 participants and it was found that 80% of the participants prefer to stay in joint families. The researchers concluded that joint families are a preferable concept in this town. Would you accept this research?"
   ]
  },
  {
   "cell_type": "code",
   "execution_count": 64,
   "metadata": {},
   "outputs": [],
   "source": [
    "a = list(df.iloc[:,1])"
   ]
  },
  {
   "cell_type": "code",
   "execution_count": 34,
   "metadata": {},
   "outputs": [],
   "source": [
    "n = 0\n",
    "y = 0\n",
    "for response in a:\n",
    "    if response == 'No':\n",
    "        n = n+1\n",
    "    else:\n",
    "        y = y+1"
   ]
  },
  {
   "cell_type": "code",
   "execution_count": 35,
   "metadata": {},
   "outputs": [
    {
     "data": {
      "image/png": "[encoded data removed]",
      "text/plain": [
       "<Figure size 720x504 with 1 Axes>"
      ]
     },
     "metadata": {},
     "output_type": "display_data"
    }
   ],
   "source": [
    "import matplotlib.pyplot as plt\n",
    "%matplotlib inline\n",
    "labels = [\"Yes- \"+str(y),\"No- \"+str(n)]\n",
    "data = [y,n]\n",
    "fig = plt.figure(figsize =(10, 7)) \n",
    "plt.pie(data, labels = labels,autopct='%1.1f%%') \n",
    "plt.show()"
   ]
  },
  {
   "cell_type": "markdown",
   "metadata": {},
   "source": [
    "More than 70% of the participants believe that the conclusion drawn in this reserach is valid. Although the results obtained by the reseracher are enough to have some evidence for the alternate hypothesis, this study in insufficient to prove this alternate hypothesis. The reserachers still need to show a conclusive replication of this study in order to remove any fallacious biases of their and the participants' belief in the law of small numbers. This means that even though the sample size of 26 is small, the researchers and a majority of the participants have taken this sample to be representative of the population which is fallacious. This simulation shows that we have reason to believe that many people have this belief in the law of small numbers."
   ]
  },
  {
   "cell_type": "markdown",
   "metadata": {},
   "source": [
    "<h3> Simulation 2</h3>\n",
    "\n",
    "Question - I am tossing a fair coin 4 times. The first 3 tosses result in Tails, Heads, Heads, respectively. What do you expect the next toss to be? (Write either H or T.)"
   ]
  },
  {
   "cell_type": "code",
   "execution_count": 63,
   "metadata": {},
   "outputs": [],
   "source": [
    "a = list(df.iloc[:,2])"
   ]
  },
  {
   "cell_type": "code",
   "execution_count": 37,
   "metadata": {},
   "outputs": [],
   "source": [
    "h = 0\n",
    "t = 0\n",
    "for response in a:\n",
    "    if response == 'H':\n",
    "        h = h+1\n",
    "    else:\n",
    "        t = t+1"
   ]
  },
  {
   "cell_type": "code",
   "execution_count": 38,
   "metadata": {},
   "outputs": [
    {
     "data": {
      "image/png": "[encoded data removed]",
      "text/plain": [
       "<Figure size 720x504 with 1 Axes>"
      ]
     },
     "metadata": {},
     "output_type": "display_data"
    }
   ],
   "source": [
    "labels = [\"Heads- \"+str(h),\"Tails- \"+str(t)]\n",
    "data = [h,t]\n",
    "fig = plt.figure(figsize =(10, 7)) \n",
    "plt.pie(data, labels = labels,autopct='%1.1f%%') \n",
    "plt.show()"
   ]
  },
  {
   "cell_type": "markdown",
   "metadata": {},
   "source": [
    "This simulation shows that only 4 participants (15%) have predicted the coin toss to be Heads. An overwhelming majority of participants believe that the next toss must be a Tails as they expect that a sample if tosses (even if it is as small as 4 tosses) must be representative of the fairness of the coin. This is the law of small numbers. In this case, people have this belief that since we have already had 2 Tails and 1 Head, the next toss must come out to be Tails to maintin the expected Heads/Tails ratio of 1. This expectation can be justified only by the belief that a random process is self correcting which is not statistically true at all."
   ]
  },
  {
   "cell_type": "markdown",
   "metadata": {},
   "source": [
    "<h3>Simulation 3</h3>\n",
    "\n",
    "Question - I am tossing a fair coin 4 times. The first 3 tosses result in Tails, Tails, Tails, respectively. What do you expect the next toss to be? (Write either H or T.)"
   ]
  },
  {
   "cell_type": "code",
   "execution_count": 62,
   "metadata": {},
   "outputs": [],
   "source": [
    "a = list(df.iloc[:,3])"
   ]
  },
  {
   "cell_type": "code",
   "execution_count": 48,
   "metadata": {},
   "outputs": [],
   "source": [
    "h = 0\n",
    "t = 0\n",
    "for response in a:\n",
    "    if response == 'H':\n",
    "        h = h+1\n",
    "    else:\n",
    "        t = t+1"
   ]
  },
  {
   "cell_type": "code",
   "execution_count": 49,
   "metadata": {},
   "outputs": [
    {
     "data": {
      "image/png": "[encoded data removed]",
      "text/plain": [
       "<Figure size 720x504 with 1 Axes>"
      ]
     },
     "metadata": {},
     "output_type": "display_data"
    }
   ],
   "source": [
    "labels = [\"Heads- \"+str(h),\"Tails- \"+str(t)]\n",
    "data = [h,t]\n",
    "fig = plt.figure(figsize =(10, 7)) \n",
    "plt.pie(data, labels = labels,autopct='%1.1f%%') \n",
    "plt.show()"
   ]
  },
  {
   "cell_type": "markdown",
   "metadata": {},
   "source": [
    "In this question too, the above belief that a random sampling will correct itself is overwhelmingly observed as most participants predicted that the toss result would be Heads as already three Tails have occurred. This type of a case is similar to <b>gambler's fallacy</b> in which a participant expects that the entire sample (even if it is as small as 4 in this case) must represent the population ratio and hence overestimates the probability of occurrence of Heads in this question. "
   ]
  },
  {
   "cell_type": "markdown",
   "metadata": {},
   "source": [
    "<h3>Simulation 4</h3>\n",
    "\n",
    "Question -  I am tossing a biased coin (which gives heads 3 times for every 4 tosses, meaning p(H)=3/4) 8 times. The first 7 tosses result in Heads, Heads, Heads, Tails, Heads, Heads, Heads, respectively. What do you expect the next toss to be? (Write either H or T.)"
   ]
  },
  {
   "cell_type": "code",
   "execution_count": 59,
   "metadata": {},
   "outputs": [],
   "source": [
    "a = list(df.iloc[:,4])"
   ]
  },
  {
   "cell_type": "code",
   "execution_count": 60,
   "metadata": {},
   "outputs": [],
   "source": [
    "h = 0\n",
    "t = 0\n",
    "for response in a:\n",
    "    if response == 'H':\n",
    "        h = h+1\n",
    "    else:\n",
    "        t = t+1"
   ]
  },
  {
   "cell_type": "code",
   "execution_count": 61,
   "metadata": {},
   "outputs": [
    {
     "data": {
      "image/png": "[encoded data removed]",
      "text/plain": [
       "<Figure size 720x504 with 1 Axes>"
      ]
     },
     "metadata": {},
     "output_type": "display_data"
    }
   ],
   "source": [
    "labels = [\"Heads- \"+str(h),\"Tails- \"+str(t)]\n",
    "data = [h,t]\n",
    "fig = plt.figure(figsize =(10, 7)) \n",
    "plt.pie(data, labels = labels,autopct='%1.1f%%') \n",
    "plt.show()"
   ]
  },
  {
   "cell_type": "markdown",
   "metadata": {},
   "source": [
    "In this case, even though it is explicitly mentioned that probability of Heads is 75%, there are almost 40% of the participants who have chosen to answer Tails. This can be explained ony by the fact that since in the previous 7 tosses, there have been 6 Heads and 1 Tails, so to make this sample a representation of the global likelihood of 75% heads and 25% Tail's, there must be another Tails. This is also an example of the belied in law of small numbers in play whiich is fallacious."
   ]
  },
  {
   "cell_type": "markdown",
   "metadata": {},
   "source": [
    "<h3>Simulation 5</h3>\n",
    "\n",
    "Question - You are tossing a fair coin 8 times. What do you expect the outcome sequence of Heads and Tails to be? (Write comma separated H and T, eg., H,H,T,H,T,T,H,T.)<br>\n",
    "<i>*This question was asked twice</i>"
   ]
  },
  {
   "cell_type": "code",
   "execution_count": 69,
   "metadata": {},
   "outputs": [],
   "source": [
    "a = list(df.iloc[:,5]) + list(df.iloc[:,6])"
   ]
  },
  {
   "cell_type": "code",
   "execution_count": 73,
   "metadata": {},
   "outputs": [],
   "source": [
    "h_to_t = []\n",
    "for response in a:\n",
    "    response = response.split(',')\n",
    "    h = 0\n",
    "    t = 0\n",
    "    for toss in response:\n",
    "        if toss == 'H':\n",
    "            h = h+1\n",
    "        else:\n",
    "            t = t+1\n",
    "    h_to_t.append(h/t)"
   ]
  },
  {
   "cell_type": "markdown",
   "metadata": {},
   "source": [
    "In this simulation, we have received sequences of Heads and Tails for tossing a coin 8 times. We are calculating the Heads to Tails ratio of each of the sequences provided and find the average of these ratios."
   ]
  },
  {
   "cell_type": "code",
   "execution_count": 74,
   "metadata": {},
   "outputs": [],
   "source": [
    "avg = sum(h_to_t)/len(h_to_t)"
   ]
  },
  {
   "cell_type": "code",
   "execution_count": 75,
   "metadata": {},
   "outputs": [
    {
     "data": {
      "text/plain": [
       "1.0194139194139196"
      ]
     },
     "execution_count": 75,
     "metadata": {},
     "output_type": "execute_result"
    }
   ],
   "source": [
    "avg"
   ]
  },
  {
   "cell_type": "markdown",
   "metadata": {},
   "source": [
    "The required average comes out to be very close to 1. It is also some evidence that people believe that a given sample is expected to have equal number of Heads and Tails, even though the sample size in this case is very small. This shows a belief in the law of small numbers."
   ]
  },
  {
   "cell_type": "markdown",
   "metadata": {},
   "source": [
    "<h3>Simulation 6</h3>\n",
    "\n",
    "Question - On a planet like earth in a galaxy far far away, a behavioural scientist in a small town believes that the people of the town love chocolates a lot. He decides to test this hypothesis by conducting a research with 20 participants and finds that 92% of these participants love chocolates. You are skeptical of the hypothesis and wish to replicate this study with a group of 15 other participants, chosen randomly from the population. Would you accept the first research if you find that out of your sample, 67% of the participants love chocolates?"
   ]
  },
  {
   "cell_type": "code",
   "execution_count": 76,
   "metadata": {},
   "outputs": [],
   "source": [
    "a = list(df.iloc[:,7])"
   ]
  },
  {
   "cell_type": "code",
   "execution_count": 77,
   "metadata": {},
   "outputs": [],
   "source": [
    "n = 0\n",
    "y = 0\n",
    "for response in a:\n",
    "    if response == 'No':\n",
    "        n = n+1\n",
    "    else:\n",
    "        y = y+1"
   ]
  },
  {
   "cell_type": "code",
   "execution_count": 78,
   "metadata": {},
   "outputs": [
    {
     "data": {
      "image/png": "[encoded data removed]",
      "text/plain": [
       "<Figure size 720x504 with 1 Axes>"
      ]
     },
     "metadata": {},
     "output_type": "display_data"
    }
   ],
   "source": [
    "labels = [\"Yes- \"+str(y),\"No- \"+str(n)]\n",
    "data = [y,n]\n",
    "fig = plt.figure(figsize =(10, 7)) \n",
    "plt.pie(data, labels = labels,autopct='%1.1f%%') \n",
    "plt.show()"
   ]
  },
  {
   "cell_type": "markdown",
   "metadata": {},
   "source": [
    "In this case, it can be seen that the researchers in the question have tried to replicate their results but the replication results are a bit underwheling forcing the participants to reject their previous study which is reasonable."
   ]
  },
  {
   "cell_type": "markdown",
   "metadata": {},
   "source": [
    "<h3>Comparison between Simulations 1 and 6</h3>"
   ]
  },
  {
   "cell_type": "markdown",
   "metadata": {},
   "source": [
    "In simulation 1, more than 70% of the participants had accepted the study done on 35 participants with 80% affirmation towards the alternate hypothesis.\n",
    "\n",
    "Now consider Simulation 6. In this case, the researchers have performed a replication study to prove their results which the participants end up rejecting. However, if we compile together the original study and the replication results, we would have a study done on 35 participants with $\\frac{(20*92)+(15*67)}{35}=81.3\\%$ affirmation towards the alternate hypothesis, which is exactly what simulation 1 is. Almost 90% of the participants have rejected this original study in this case.\n",
    "\n",
    "These results are completely contradictiory to each other and can only be explained by the assertion that people have this belief that every sample drawn from a population (however small it might be, 35,20,15) must be representative of that population. This belief has no statistical grounding."
   ]
  },
  {
   "cell_type": "markdown",
   "metadata": {},
   "source": [
    "<h3>Simulation 7</h3>\n",
    "\n",
    "Question - Two people are in a casino and decide that if one of them throws two 4’s, they will get married and if they throw a 5 and a 3, they won’t get married. Do you expect them to come back from Vegas married or unmarried?"
   ]
  },
  {
   "cell_type": "code",
   "execution_count": 85,
   "metadata": {},
   "outputs": [],
   "source": [
    "a = list(df.iloc[:,8])"
   ]
  },
  {
   "cell_type": "code",
   "execution_count": 86,
   "metadata": {},
   "outputs": [],
   "source": [
    "m = 0\n",
    "u = 0\n",
    "c = 0\n",
    "for response in a:\n",
    "    if response == 'Married':\n",
    "        m = m+1\n",
    "    elif response == 'Unmarried':\n",
    "        u = u+1\n",
    "    else:\n",
    "        c = c+1"
   ]
  },
  {
   "cell_type": "code",
   "execution_count": 87,
   "metadata": {},
   "outputs": [
    {
     "data": {
      "image/png": "[encoded data removed]",
      "text/plain": [
       "<Figure size 720x504 with 1 Axes>"
      ]
     },
     "metadata": {},
     "output_type": "display_data"
    }
   ],
   "source": [
    "labels = [\"Married- \"+str(m),\"Unmarried- \"+str(u),\"Can't Say- \"+str(c)]\n",
    "data = [m,u,c]\n",
    "fig = plt.figure(figsize =(10, 7)) \n",
    "plt.pie(data, labels = labels,autopct='%1.1f%%') \n",
    "plt.show()"
   ]
  },
  {
   "cell_type": "markdown",
   "metadata": {},
   "source": [
    "Even though the probability of getting 2 fours is exactly the same as the probability of getting a 5 and a 3 on throwing 2 die together, many partcipants are seen overestimating the probability of 5 and 3 and underestimating the probability of getting two 4's. This is a plausible explanation for the responses obtained when the most reasonable answer would have been can't say. But this result might also be due to the fact that the probability of twi 4's is very low and it is highly unlikely that they would roll two 4's due to which they'll remain unmarried, in which case this question has not been properly framed."
   ]
  },
  {
   "cell_type": "markdown",
   "metadata": {},
   "source": [
    "<h3>Conclusion</h3>\n",
    "\n",
    "In this project, we have created several simulations in order to show that generally, people have this fallacious belief in the law of small numbers. Instead of keeping in mind the mathematical and statistical voracity of their responses, people tend to think that small samples should also behave similar to the poulation in that they must have the same mean and variance. This belief is fallacious and might need to errors in judgement, even in academia.\n",
    "\n",
    "It is important to note that these simulations are in a no way a proof that a belief in the law of small numbers exists in the entire human population. Taking this leap would make us a victim of the same fallacious belief. This shows some evidence but these simulations need to be replicated with arguably a bigger sample size, and an open mind, one which is not in a hurry to reject the null hypothesis!"
   ]
  }
 ],
 "metadata": {
  "kernelspec": {
   "display_name": "Python 3",
   "language": "python",
   "name": "python3"
  },
  "language_info": {
   "codemirror_mode": {
    "name": "ipython",
    "version": 3
   },
   "file_extension": ".py",
   "mimetype": "text/x-python",
   "name": "python",
   "nbconvert_exporter": "python",
   "pygments_lexer": "ipython3",
   "version": "3.6.8"
  }
 },
 "nbformat": 4,
 "nbformat_minor": 2
}
